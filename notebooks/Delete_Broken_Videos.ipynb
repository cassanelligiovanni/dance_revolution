{
 "cells": [
  {
   "cell_type": "code",
   "execution_count": 11,
   "id": "9fe4b0ea",
   "metadata": {},
   "outputs": [
    {
     "data": {
      "text/plain": [
       "15"
      ]
     },
     "execution_count": 11,
     "metadata": {},
     "output_type": "execute_result"
    }
   ],
   "source": [
    "ciao = \"\"\"extracting 404 / 1408../../../../Volumes/UCL/videos/all/gJB_sFM_c01_d07_mJB2_ch03.mp4\n",
    "extracting 412 / 1408../../../../Volumes/UCL/videos/all/gJB_sFM_c01_d08_mJB3_ch11.mp4\n",
    "extracting 416 / 1408../../../../Volumes/UCL/videos/all/gJB_sFM_c01_d09_mJB0_ch15.mp4\n",
    "extracting 421 / 1408../../../../Volumes/UCL/videos/all/gJB_sFM_c01_d09_mJB4_ch19.mp4\n",
    "extracting 546 / 1408../../../../Volumes/UCL/videos/all/gJS_sFM_c01_d01_mJS2_ch03.mp4\n",
    "extracting 690 / 1408../../../../Volumes/UCL/videos/all/gKR_sFM_c01_d28_mKR5_ch06.mp4\n",
    "extracting 696 / 1408../../../../Volumes/UCL/videos/all/gKR_sFM_c01_d29_mKR5_ch13.mp4\n",
    "extracting 697 / 1408../../../../Volumes/UCL/videos/all/gKR_sFM_c01_d29_mKR5_ch14.mp4\n",
    "extracting 704 / 1408../../../../Volumes/UCL/videos/all/gKR_sFM_c01_d30_mKR5_ch20.mp4\n",
    "extracting 842 / 1408../../../../Volumes/UCL/videos/all/gLH_sFM_c01_d18_mLH2_ch17.mp4\n",
    "extracting 975 / 1408../../../../Volumes/UCL/videos/all/gLO_sFM_c01_d14_mLO2_ch10.mp4\n",
    "extracting 981 / 1408../../../../Volumes/UCL/videos/all/gLO_sFM_c01_d15_mLO1_ch16.mp4\n",
    "extracting 1111 / 1408../../../../Volumes/UCL/videos/all/gMH_sFM_c01_d22_mMH3_ch04.mp4\n",
    "extracting 1114 / 1408../../../../Volumes/UCL/videos/all/gMH_sFM_c01_d23_mMH0_ch08.mp4\n",
    "extracting 1394 / 1408../../../../Volumes/UCL/videos/all/gWA_sFM_c01_d26_mWA0_ch08.mp4\"\"\"\n",
    "\n",
    "to_remove = []\n",
    "\n",
    "ciao = ciao.replace(\"c01\", \"cAll\").split(\"\\n\")\n",
    "for line in ciao:\n",
    "    file = line.split(\"/\")[-1]\n",
    "    no_extension = file.split(\".\")[0]\n",
    "    to_remove.append(no_extension)\n",
    "    \n",
    "\n",
    "    \n",
    "len(to_remove)"
   ]
  },
  {
   "cell_type": "code",
   "execution_count": 22,
   "id": "1d3eb16d",
   "metadata": {},
   "outputs": [
    {
     "name": "stdout",
     "output_type": "stream",
     "text": [
      "gJB_sFM_cAll_d07_mJB2_ch03\n",
      "['gJB_sFM_cAll_d07_mJB2_ch03.pkl']\n",
      "gJB_sFM_cAll_d08_mJB3_ch11\n",
      "['gJB_sFM_cAll_d08_mJB3_ch11.pkl']\n",
      "gJB_sFM_cAll_d09_mJB0_ch15\n",
      "['gJB_sFM_cAll_d09_mJB0_ch15.pkl']\n",
      "gJB_sFM_cAll_d09_mJB4_ch19\n",
      "['gJB_sFM_cAll_d09_mJB4_ch19.pkl']\n",
      "gJS_sFM_cAll_d01_mJS2_ch03\n",
      "['gJS_sFM_cAll_d01_mJS2_ch03.pkl']\n",
      "gKR_sFM_cAll_d28_mKR5_ch06\n",
      "['gKR_sFM_cAll_d28_mKR5_ch06.pkl']\n",
      "gKR_sFM_cAll_d29_mKR5_ch13\n",
      "['gKR_sFM_cAll_d29_mKR5_ch13.pkl']\n",
      "gKR_sFM_cAll_d29_mKR5_ch14\n",
      "['gKR_sFM_cAll_d29_mKR5_ch14.pkl']\n",
      "gKR_sFM_cAll_d30_mKR5_ch20\n",
      "['gKR_sFM_cAll_d30_mKR5_ch20.pkl']\n",
      "gLH_sFM_cAll_d18_mLH2_ch17\n",
      "['gLH_sFM_cAll_d18_mLH2_ch17.pkl']\n",
      "gLO_sFM_cAll_d14_mLO2_ch10\n",
      "['gLO_sFM_cAll_d14_mLO2_ch10.pkl']\n",
      "gLO_sFM_cAll_d15_mLO1_ch16\n",
      "['gLO_sFM_cAll_d15_mLO1_ch16.pkl']\n",
      "gMH_sFM_cAll_d22_mMH3_ch04\n",
      "['gMH_sFM_cAll_d22_mMH3_ch04.pkl']\n",
      "gMH_sFM_cAll_d23_mMH0_ch08\n",
      "['gMH_sFM_cAll_d23_mMH0_ch08.pkl']\n",
      "gWA_sFM_cAll_d26_mWA0_ch08\n",
      "['gWA_sFM_cAll_d26_mWA0_ch08.pkl']\n"
     ]
    }
   ],
   "source": [
    "import os\n",
    "import subprocess\n",
    "DIR = \"../data/motions\"\n",
    "\n",
    "for rm in to_remove:\n",
    "    print(rm)\n",
    "    matching = [s for s in os.listdir(DIR) if rm in s]\n",
    "    subprocess.call([\"rm\", os.path.join(DIR, matching[0])])\n",
    "    print(matching)\n",
    "    \n"
   ]
  },
  {
   "cell_type": "code",
   "execution_count": 8,
   "id": "22872528",
   "metadata": {},
   "outputs": [
    {
     "data": {
      "text/plain": [
       "str"
      ]
     },
     "execution_count": 8,
     "metadata": {},
     "output_type": "execute_result"
    }
   ],
   "source": [
    "type(os.listdir(DIR)[0])"
   ]
  },
  {
   "cell_type": "code",
   "execution_count": null,
   "id": "b2a1e206",
   "metadata": {},
   "outputs": [],
   "source": []
  }
 ],
 "metadata": {
  "kernelspec": {
   "display_name": "Python 3 (ipykernel)",
   "language": "python",
   "name": "python3"
  },
  "language_info": {
   "codemirror_mode": {
    "name": "ipython",
    "version": 3
   },
   "file_extension": ".py",
   "mimetype": "text/x-python",
   "name": "python",
   "nbconvert_exporter": "python",
   "pygments_lexer": "ipython3",
   "version": "3.8.10"
  }
 },
 "nbformat": 4,
 "nbformat_minor": 5
}
