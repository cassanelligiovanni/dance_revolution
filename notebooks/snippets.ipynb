{
 "cells": [
  {
   "cell_type": "code",
   "execution_count": 2,
   "metadata": {},
   "outputs": [],
   "source": [
    "import os \n",
    "import numpy as np\n",
    "import torch\n",
    "import pickle\n",
    "import json"
   ]
  },
  {
   "cell_type": "markdown",
   "metadata": {},
   "source": [
    "## Numpy"
   ]
  },
  {
   "cell_type": "code",
   "execution_count": 34,
   "metadata": {},
   "outputs": [
    {
     "name": "stdout",
     "output_type": "stream",
     "text": [
      "[[0. 0. 0. 0. 0. 0. 0.]\n",
      " [0. 0. 0. 0. 0. 0. 0.]\n",
      " [1. 1. 1. 1. 1. 1. 1.]\n",
      " [1. 1. 1. 1. 1. 1. 1.]\n",
      " [1. 1. 1. 1. 1. 1. 1.]\n",
      " [1. 1. 1. 1. 1. 1. 1.]\n",
      " [1. 1. 1. 1. 1. 1. 1.]\n",
      " [1. 1. 1. 1. 1. 1. 1.]\n",
      " [1. 1. 1. 1. 1. 1. 1.]\n",
      " [1. 1. 1. 1. 1. 1. 1.]]\n"
     ]
    }
   ],
   "source": [
    "new_audio = np.ones((10, 7))\n",
    "audio = np.zeros((4, 7))\n",
    "\n",
    "new_audio[0:2, :] = audio[2:4, :]\n",
    "\n",
    "print(new_audio)"
   ]
  },
  {
   "cell_type": "code",
   "execution_count": 35,
   "metadata": {},
   "outputs": [
    {
     "name": "stdout",
     "output_type": "stream",
     "text": [
      "living in new york\n",
      "ciaa\n"
     ]
    }
   ],
   "source": [
    "audio_names = [\"e ciao\", \"d ciao\", \"lofi\", \"living in new york\", \"ciaa\"]\n",
    "test = [\"ciao\", \"lofi\"]\n",
    "\n",
    "for name in audio_names:\n",
    "\n",
    "    if not any(x in name for x in test):\n",
    "        \n",
    "        print(name)"
   ]
  },
  {
   "cell_type": "markdown",
   "metadata": {},
   "source": [
    "# BOP & MEAN POSE\n"
   ]
  },
  {
   "cell_type": "code",
   "execution_count": 28,
   "metadata": {},
   "outputs": [
    {
     "name": "stdout",
     "output_type": "stream",
     "text": [
      "[[0.9 0.7 0.9 0.7 0.9 0.7 0.9 0.7 0.9 0.7 0.9 0.7 0.9 0.7 0.9 0.7 0.1 0.3\n",
      "  0.9 0.7 0.9 0.7 0.9 0.7 0.9 0.7 0.9 0.7 0.9 0.7 0.9 0.7 0.9 0.7 0.9 0.7\n",
      "  0.9 0.7 0.9 0.7 0.9 0.7 0.9 0.7 0.9 0.7 0.9 0.7 0.9 0.7]\n",
      " [0.9 0.7 0.9 0.7 0.9 0.7 0.9 0.7 0.9 0.7 0.9 0.7 0.9 0.7 0.9 0.7 0.1 0.3\n",
      "  0.9 0.7 0.9 0.7 0.9 0.7 0.9 0.7 0.9 0.7 0.9 0.7 0.9 0.7 0.9 0.7 0.9 0.7\n",
      "  0.9 0.7 0.9 0.7 0.9 0.7 0.9 0.7 0.9 0.7 0.9 0.7 0.9 0.7]\n",
      " [0.9 0.7 0.9 0.7 0.9 0.7 0.9 0.7 0.9 0.7 0.9 0.7 0.9 0.7 0.9 0.7 0.1 0.3\n",
      "  0.9 0.7 0.9 0.7 0.9 0.7 0.9 0.7 0.9 0.7 0.9 0.7 0.9 0.7 0.9 0.7 0.9 0.7\n",
      "  0.9 0.7 0.9 0.7 0.9 0.7 0.9 0.7 0.9 0.7 0.9 0.7 0.9 0.7]\n",
      " [0.9 0.7 0.9 0.7 0.9 0.7 0.9 0.7 0.9 0.7 0.9 0.7 0.9 0.7 0.9 0.7 0.1 0.3\n",
      "  0.9 0.7 0.9 0.7 0.9 0.7 0.9 0.7 0.9 0.7 0.9 0.7 0.9 0.7 0.9 0.7 0.9 0.7\n",
      "  0.9 0.7 0.9 0.7 0.9 0.7 0.9 0.7 0.9 0.7 0.9 0.7 0.9 0.7]\n",
      " [0.9 0.7 0.9 0.7 0.9 0.7 0.9 0.7 0.9 0.7 0.9 0.7 0.9 0.7 0.9 0.7 0.1 0.3\n",
      "  0.9 0.7 0.9 0.7 0.9 0.7 0.9 0.7 0.9 0.7 0.9 0.7 0.9 0.7 0.9 0.7 0.9 0.7\n",
      "  0.9 0.7 0.9 0.7 0.9 0.7 0.9 0.7 0.9 0.7 0.9 0.7 0.9 0.7]]\n"
     ]
    }
   ],
   "source": [
    "np_dance = np.ones((5, 50))\n",
    "np_dance[:, 16] = 0.1\n",
    "np_dance[:, 17] = 0.3\n",
    "root = np_dance[:, 2*8:2*9]\n",
    "np_dance = np_dance - np.tile(root, (1, 25))\n",
    "np_dance[:, 2*8:2*9] = root\n",
    "\n",
    "print(np_dance)"
   ]
  },
  {
   "cell_type": "code",
   "execution_count": 27,
   "metadata": {
    "scrolled": false
   },
   "outputs": [
    {
     "name": "stdout",
     "output_type": "stream",
     "text": [
      "[,-3.03933038,197.40993013, -4.02938249, -0.20411807,200.40658281\n",
      ", -5.71477181, -5.875523, ,200.34909549, -5.77308014, ,3.37541695\n",
      ",199.4787599, -12.3712766, ,-9.70917155,199.43009712,-12.22367906\n",
      ", ,9.0159848, 184.74933248,-17.24266724,-15.03735, , 184.82223941\n",
      ",-18.24799486, 18.45500438,170.64403929,-16.85775607,-23.73141296\n",
      ",170.69377837,-18.6949286, ,19.15359428,164.08866607, -9.77266799\n",
      ",-24.92104784,164.24934035,-11.25820301, ,5.22367735,139.70045774\n",
      ",-21.42948912,-11.29685052,139.79198469,-22.19452003, ,7.53424958\n",
      ",108.51632543,-14.17712235,-14.2443059, 108.70790672,-15.0563787\n",
      ", ,7.12587562, 77.89924631,-22.50744766,-13.37533681, 78.14787432\n",
      ",-23.43227194]\n"
     ]
    }
   ],
   "source": [
    "MOTIONS_DIR = \"../data/motions/\"\n",
    "\n",
    "beginning_poses = []\n",
    "\n",
    "for i in os.listdir(MOTIONS_DIR):\n",
    "    if (i.endswith(\".pkl\")): \n",
    "        motion = np.load(os.path.join(MOTIONS_DIR, i) , allow_pickle=True) \n",
    "        l, j, d = motion.shape\n",
    "        motion = motion.reshape(l, (j*d))\n",
    "        mean = np.mean(motion, axis=0)\n",
    "        beginning_poses.append(mean)\n",
    "\n",
    "mean_array = np.asarray(beginning_poses)\n",
    "\n",
    "BOS_POSE = np.mean(mean_array, axis=0)\n",
    "\n",
    "print(str(BOS_POSE).replace(\" \", \",\").replace(\",,\", \", \"))"
   ]
  },
  {
   "cell_type": "code",
   "execution_count": 11,
   "metadata": {},
   "outputs": [
    {
     "name": "stdout",
     "output_type": "stream",
     "text": [
      "['gWA_sBM_cAll_d27_mWA5_ch05.json', 'gJB_sBM_cAll_d08_mJB5_ch07.json', 'gLO_sBM_cAll_d15_mLO5_ch02.json', '.DS_Store', 'gBR_sFM_cAll_d05_mBR5_ch12.json', 'gKR_sBM_cAll_d29_mKR5_ch08.json', 'gJS_sBM_cAll_d03_mJS5_ch03.json', 'gPO_sBM_cAll_d11_mPO5_ch05.json', 'gMH_sBM_cAll_d23_mMH5_ch06.json', 'gHO_sBM_cAll_d21_mHO5_ch08.json', 'gLH_sBM_cAll_d17_mLH5_ch09.json']\n",
      "(1771, 439)\n"
     ]
    }
   ],
   "source": [
    "TEST_DIR = \"../data/dataset/test/\"\n",
    "print(os.listdir(TEST_DIR))\n",
    "with open((TEST_DIR + \"gBR_sFM_cAll_d05_mBR5_ch12.json\")) as f:\n",
    "    sample = json.loads(f.read())\n",
    "    music_array = np.array([np.array(x) for x in sample[\"music\"]])\n",
    "    print(music_array.shape)\n"
   ]
  },
  {
   "cell_type": "code",
   "execution_count": 108,
   "metadata": {},
   "outputs": [
    {
     "name": "stdout",
     "output_type": "stream",
     "text": [
      "[-1. -2. -3. -1. -2. -3. -1. -2. -3. -1. -2. -3. -1. -2. -3. -1. -2. -3.\n",
      " -1. -2. -3. -1. -2. -3. -1. -2. -3. -1. -2. -3. -1. -2. -3. -1. -2. -3.\n",
      " -1. -2. -3. -1. -2. -3. -1. -2. -3. -1. -2. -3. -1. -2. -3.  3.  4.  5.]\n"
     ]
    }
   ],
   "source": [
    "BOP = np.zeros((54, ))\n",
    "BOP = np.tile(BOP, (32, 1))\n",
    "\n",
    "root = np.array([1, 2, 3])\n",
    "\n",
    "bos = BOP - np.tile(root, (1, 18))\n",
    "\n",
    "bos[:, 51] = 3\n",
    "bos[:, 52] = 4\n",
    "bos[:, 53] = 5\n",
    "\n",
    "out_frame = torch.from_numpy(bos).float()\n",
    "out_seq = torch.FloatTensor(32, 1)\n",
    "\n",
    "print(bos[0])"
   ]
  },
  {
   "cell_type": "code",
   "execution_count": 17,
   "metadata": {},
   "outputs": [],
   "source": [
    "pose = np.array([1.65717879e-04, 5.76806666e+01, 1.77991647e+01, 2.83904452e+00\n",
    ", 6.06789102e+01, 1.61095503e+01,-2.83958684e+00, 6.06217599e+01\n",
    ", 1.60514467e+01, 6.41940198e+00, 5.97493530e+01, 9.44162840e+00\n",
    ",-6.67908357e+00, 5.97015183e+01, 9.59322822e+00, 1.20706792e+01\n",
    ", 4.50052304e+01, 4.56941580e+00,-1.20132797e+01, 4.50802645e+01\n",
    ", 3.55479801e+00, 2.15286450e+01, 3.08812568e+01, 4.95644498e+00\n",
    ",-2.07192396e+01, 3.09236114e+01, 3.09857324e+00, 2.22383042e+01\n",
    ", 2.43203152e+01, 1.20605332e+01,-2.19314823e+01, 2.44590439e+01\n",
    ", 1.05536155e+01, 8.26935829e+00,-4.73152098e-02, 3.82378866e-01\n",
    ",-8.26935829e+00, 4.73152098e-02,-3.82378866e-01, 1.05586210e+01\n",
    ",-3.12299798e+01, 7.62115640e+00,-1.12099623e+01,-3.10378625e+01\n",
    ", 6.75848723e+00, 1.01434951e+01,-6.18446547e+01,-7.10491983e-01\n",
    ",-1.03335510e+01,-6.16031763e+01,-1.59934442e+00,-2.96671334e+00\n",
    ", 1.39761621e+02,-2.17707299e+01])\n",
    "\n",
    "\n",
    "pose = pose[np.newaxis, :]\n",
    "pose = pose[np.newaxis, :, :]\n",
    "pose = pose.reshape(1, 18, 3)\n",
    "\n"
   ]
  },
  {
   "cell_type": "code",
   "execution_count": 20,
   "metadata": {},
   "outputs": [],
   "source": [
    "\n",
    "\n",
    "def save_obj(obj, directory, name ):\n",
    "    with open(directory + name +  '.pkl', 'wb') as f:\n",
    "        pickle.dump(obj, f, 4)\n",
    "\n",
    "save_obj(pose, \"./\", \"ciao\")"
   ]
  },
  {
   "cell_type": "code",
   "execution_count": 4,
   "metadata": {},
   "outputs": [
    {
     "data": {
      "text/plain": [
       "['gLH_sBM_cAll_d17_mLH5_ch09_0.json',\n",
       " '.DS_Store',\n",
       " 'gJB_sBM_cAll_d08_mJB5_ch07_0.json',\n",
       " 'gBR_sFM_cAll_d05_mBR5_ch12_3.json',\n",
       " 'gLO_sBM_cAll_d15_mLO5_ch02_0.json',\n",
       " 'gJS_sBM_cAll_d03_mJS5_ch03_0.json',\n",
       " 'gKR_sBM_cAll_d29_mKR5_ch08_0.json',\n",
       " 'gBR_sFM_cAll_d05_mBR5_ch12_2.json',\n",
       " 'gMH_sBM_cAll_d23_mMH5_ch06_0.json',\n",
       " 'gBR_sFM_cAll_d05_mBR5_ch12_1.json',\n",
       " 'gBR_sFM_cAll_d05_mBR5_ch12_0.json',\n",
       " 'gWA_sBM_cAll_d27_mWA5_ch05_0.json',\n",
       " 'gPO_sBM_cAll_d11_mPO5_ch05_0.json']"
      ]
     },
     "execution_count": 4,
     "metadata": {},
     "output_type": "execute_result"
    }
   ],
   "source": [
    "os.listdir(\"../data/dataset/test/\")"
   ]
  },
  {
   "cell_type": "code",
   "execution_count": 3,
   "metadata": {},
   "outputs": [
    {
     "name": "stdout",
     "output_type": "stream",
     "text": [
      "(2878, 18, 3)\n"
     ]
    }
   ],
   "source": [
    "ciao = np.load(\"../../motions/gJS_sFM_cAll_d02_mJS0_ch08.pkl\", allow_pickle=True)\n",
    "print(ciao.shape)"
   ]
  },
  {
   "cell_type": "markdown",
   "metadata": {},
   "source": [
    "## Pytorch"
   ]
  },
  {
   "cell_type": "code",
   "execution_count": 3,
   "metadata": {
    "scrolled": true
   },
   "outputs": [
    {
     "name": "stdout",
     "output_type": "stream",
     "text": [
      "torch.Size([512, 200])\n",
      "torch.Size([512, 200])\n",
      "torch.Size([512])\n",
      "torch.Size([32, 899, 512])\n"
     ]
    }
   ],
   "source": [
    "in1 = torch.randn(32, 899, 200)\n",
    "layer = torch.nn.Linear(200, 512)\n",
    "\n",
    "output = layer(in1)\n",
    "\n",
    "print(layer.weight.size())\n",
    "print(list(layer.parameters())[0].size())\n",
    "print(list(layer.parameters())[1].size())\n",
    "print(output.size())"
   ]
  },
  {
   "cell_type": "code",
   "execution_count": null,
   "metadata": {},
   "outputs": [],
   "source": []
  },
  {
   "cell_type": "code",
   "execution_count": 48,
   "metadata": {},
   "outputs": [
    {
     "name": "stdout",
     "output_type": "stream",
     "text": [
      "torch.Size([256, 899, 899])\n",
      "torch.Size([256, 899, 64])\n",
      "torch.Size([8, 32, 899, 64])\n",
      "torch.Size([32, 899, 512])\n"
     ]
    }
   ],
   "source": [
    "q = torch.randn(256, 899, 64)\n",
    "k = torch.randn(256, 899, 64)\n",
    "v = torch.randn(256, 899, 64)\n",
    "k = k.transpose(1, 2)\n",
    "\n",
    "attn = torch.bmm(q, k)\n",
    "print(attn.size())\n",
    "output = torch.bmm(attn, v)\n",
    "print(output.size())\n",
    "\n",
    "output = output.view(8, 32, 899, 64)\n",
    "print(output.size())\n",
    "output = output.permute(1, 2, 0, 3).contiguous().view(32, 899, -1)  # b x lq x (n*dv)\n",
    "print(output.size())"
   ]
  },
  {
   "cell_type": "code",
   "execution_count": 30,
   "metadata": {},
   "outputs": [
    {
     "name": "stdout",
     "output_type": "stream",
     "text": [
      "torch.Size([899])\n",
      "tensor(449.)\n"
     ]
    }
   ],
   "source": [
    "groundtruth_mask = torch.ones(899, 10)\n",
    "prediction_mask = torch.zeros(899, 10)\n",
    "mask = torch.cat([prediction_mask, groundtruth_mask], 1).view(-1)[:899] \n",
    "print(mask.shape)\n",
    "print(torch.sum(mask))\n",
    "# print(mask)"
   ]
  },
  {
   "cell_type": "code",
   "execution_count": null,
   "metadata": {},
   "outputs": [],
   "source": [
    "mask = torch.cat([prediction_mask, groundtruth_mask], 1).view(-1)[:899]  # for random\n"
   ]
  },
  {
   "cell_type": "code",
   "execution_count": null,
   "metadata": {},
   "outputs": [],
   "source": []
  }
 ],
 "metadata": {
  "kernelspec": {
   "display_name": "Python 3 (ipykernel)",
   "language": "python",
   "name": "python3"
  },
  "language_info": {
   "codemirror_mode": {
    "name": "ipython",
    "version": 3
   },
   "file_extension": ".py",
   "mimetype": "text/x-python",
   "name": "python",
   "nbconvert_exporter": "python",
   "pygments_lexer": "ipython3",
   "version": "3.8.10"
  }
 },
 "nbformat": 4,
 "nbformat_minor": 4
}
